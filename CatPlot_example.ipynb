{
  "nbformat": 4,
  "nbformat_minor": 0,
  "metadata": {
    "colab": {
      "provenance": [],
      "authorship_tag": "ABX9TyM9Kn5cKiX58/zGjpjic2rF",
      "include_colab_link": true
    },
    "kernelspec": {
      "name": "python3",
      "display_name": "Python 3"
    },
    "language_info": {
      "name": "python"
    }
  },
  "cells": [
    {
      "cell_type": "markdown",
      "metadata": {
        "id": "view-in-github",
        "colab_type": "text"
      },
      "source": [
        "<a href=\"https://colab.research.google.com/github/michaellozano/AI_ML_training/blob/main/CatPlot_example.ipynb\" target=\"_parent\"><img src=\"https://colab.research.google.com/assets/colab-badge.svg\" alt=\"Open In Colab\"/></a>"
      ]
    },
    {
      "cell_type": "code",
      "execution_count": null,
      "metadata": {
        "id": "MRR4fkMJzUzV"
      },
      "outputs": [],
      "source": [
        "import pandas as pd\n",
        "import numpy as np\n",
        "import matplotlib.pyplot as plt\n",
        "import seaborn as sns\n",
        "import warnings\n",
        "# warnings.simplefilter(action='ignore', category=FutureWarning)\n",
        "\n",
        "sns.set_style(\"darkgrid\")\n",
        "\n",
        "sales_data = pd.read_excel(\"1688639662_ausapparalsales4thqrt2020.xlsx\")\n",
        "\n",
        "sales_data_by_state_and_group = sales_data.groupby([sales_data.State, sales_data.Group]).Sales.sum().reset_index()\n",
        "sales_data_by_state_and_group.head(10)\n",
        "\n",
        "plt.figure(figsize=(10,10))\n",
        "# plt.bar(sales_data_by_state_and_group[\"State\"], sales_data_by_state_and_group[\"Sales\"])\n",
        "sns.catplot(data=sales_data_by_state_and_group, x=\"State\", y=\"Sales\", hue=\"Group\", kind=\"bar\")\n",
        "# grid.set(title ='State wise sale analysis')\n",
        "plt.show()\n",
        "\n",
        "\n",
        "\n",
        "\n",
        "\n"
      ]
    }
  ]
}